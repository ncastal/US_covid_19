{
 "metadata": {
  "language_info": {
   "codemirror_mode": {
    "name": "ipython",
    "version": 3
   },
   "file_extension": ".py",
   "mimetype": "text/x-python",
   "name": "python",
   "nbconvert_exporter": "python",
   "pygments_lexer": "ipython3",
   "version": 3
  },
  "orig_nbformat": 2
 },
 "nbformat": 4,
 "nbformat_minor": 2,
 "cells": [
  {
   "cell_type": "code",
   "execution_count": null,
   "metadata": {},
   "outputs": [],
   "source": [
    "#dependiencies\n",
    "import pandas as pd\n",
    "from sodapy import Socrata\n",
    "from key import token,username,password"
   ]
  },
  {
   "cell_type": "code",
   "execution_count": null,
   "metadata": {},
   "outputs": [],
   "source": [
    "#client to connect to cdc covid-19 data\n",
    "client = Socrata(\"data.cdc.gov\",\n",
    "                  token,\n",
    "                  username,\n",
    "                  password)"
   ]
  },
  {
   "cell_type": "code",
   "execution_count": null,
   "metadata": {},
   "outputs": [],
   "source": [
    "# results from cdc\n",
    "results = client.get(\"vbim-akqf\", limit=20000000)"
   ]
  },
  {
   "cell_type": "code",
   "execution_count": null,
   "metadata": {},
   "outputs": [],
   "source": [
    "# Convert to pandas DataFrame\n",
    "results_df = pd.DataFrame.from_records(results)\n",
    "results_df"
   ]
  },
  {
   "cell_type": "code",
   "execution_count": null,
   "metadata": {},
   "outputs": [],
   "source": [
    "#reformatting date\n",
    "results_df['cdc_case_earliest_dt']=pd.to_datetime(results_df['cdc_case_earliest_dt']).dt.date\n",
    "results_df['cdc_report_dt']=pd.to_datetime(results_df['cdc_report_dt']).dt.date\n",
    "results_df['pos_spec_dt']=pd.to_datetime(results_df['pos_spec_dt']).dt.date\n",
    "results_df['onset_dt']=pd.to_datetime(results_df['onset_dt']).dt.date\n",
    "results_df"
   ]
  },
  {
   "cell_type": "code",
   "execution_count": null,
   "metadata": {},
   "outputs": [],
   "source": [
    "import psycopg2\n",
    "\n",
    "sql = '''\n",
    "COPY copy_test\n",
    "FROM 'total_covid_19_us_cases.csv' --input full file path here. see line 46\n",
    "DELIMITER ',' CSV;\n",
    "'''\n",
    "\n",
    "table_create_sql = '''\n",
    "CREATE TABLE IF NOT EXISTS  total_covid_19_cases(id                          int,\n",
    "                                                 cdc_case_earliest_dt        date,\n",
    "                                                 cdc_report_dt               date,\n",
    "                                                 pos_spec_dt                 date,\n",
    "                                                 current_status\t             varchar,\n",
    "                                                 sex                         varchar,\n",
    "                                                 age_group                   varchar,\n",
    "                                                 race_ethnicity_combined     varchar,\n",
    "                                                 hosp_yn                     varchar,\n",
    "                                                 icu_yn                      varchar,\n",
    "                                                 death_yn                    varchar,\n",
    "                                                 medcond_yn                  varchar,\n",
    "                                                 onset_dt                    date\n",
    "\n",
    ")\n",
    "'''\n",
    "\n",
    "pg_conn = psycopg2.connect(location)\n",
    "cur = pg_conn.cursor()\n",
    "cur.execute(table_create_sql)\n",
    "cur.execute('TRUNCATE TABLE total_covid_19_cases')"
   ]
  },
  {
   "cell_type": "code",
   "execution_count": null,
   "metadata": {},
   "outputs": [],
   "source": [
    "results_df.to_csv('total_covid_19_us_cases.csv',index=True)"
   ]
  }
 ]
}