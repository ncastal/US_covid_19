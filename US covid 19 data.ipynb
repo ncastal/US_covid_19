{
 "cells": [
  {
   "cell_type": "code",
   "execution_count": 1,
   "metadata": {},
   "outputs": [],
   "source": [
    "#dependiencies\n",
    "import pandas as pd\n",
    "from sodapy import Socrata\n",
    "from key import token,username,password"
   ]
  },
  {
   "cell_type": "code",
   "execution_count": 2,
   "metadata": {},
   "outputs": [],
   "source": [
    "#client to connect to cdc covid-19 data\n",
    "client = Socrata(\"data.cdc.gov\",\n",
    "                  token,\n",
    "                  username,\n",
    "                  password)"
   ]
  },
  {
   "cell_type": "code",
   "execution_count": 3,
   "metadata": {},
   "outputs": [],
   "source": [
    "# results from cdc\n",
    "results = client.get(\"9mfq-cb36\", limit=23000)"
   ]
  },
  {
   "cell_type": "code",
   "execution_count": 4,
   "metadata": {},
   "outputs": [],
   "source": [
    "# Convert to pandas DataFrame\n",
    "results_df = pd.DataFrame.from_records(results)"
   ]
  },
  {
   "cell_type": "code",
   "execution_count": 5,
   "metadata": {},
   "outputs": [
    {
     "output_type": "execute_result",
     "data": {
      "text/plain": [
       "               submission_date state tot_cases new_case pnew_case tot_death  \\\n",
       "0      2020-10-15T00:00:00.000    DC     16166     34.0         0       638   \n",
       "1      2020-12-08T00:00:00.000    NM    109947      0.0         0      1756   \n",
       "2      2021-01-01T00:00:00.000    FL   1300528      0.0      6063     21673   \n",
       "3      2020-08-29T00:00:00.000    SD     12942    425.0         0       167   \n",
       "4      2020-04-30T00:00:00.000    IA      7145    302.0         0       162   \n",
       "...                        ...   ...       ...      ...       ...       ...   \n",
       "22795  2020-03-01T00:00:00.000    WY         0      0.0       NaN         0   \n",
       "22796  2020-07-12T00:00:00.000    DC     10847     46.0         0       568   \n",
       "22797  2020-03-05T00:00:00.000    MI         0      0.0       NaN         0   \n",
       "22798  2021-02-03T00:00:00.000    CA   3281271  10501.0         0     41811   \n",
       "22799  2020-03-31T00:00:00.000    IA       497     73.0       NaN         7   \n",
       "\n",
       "      new_death pnew_death               created_at consent_cases  \\\n",
       "0           0.0          0  2020-10-16T13:33:55.808           NaN   \n",
       "1           0.0          0  2020-12-09T14:45:40.234           N/A   \n",
       "2           0.0          7  2021-01-02T14:50:51.219     Not agree   \n",
       "3           2.0          0  2020-08-30T14:49:52.418           N/A   \n",
       "4          14.0          0  2020-05-01T21:00:19.025     Not agree   \n",
       "...         ...        ...                      ...           ...   \n",
       "22795       0.0        NaN  2020-03-26T16:22:39.452         Agree   \n",
       "22796       0.0          0  2020-07-13T15:19:34.972           NaN   \n",
       "22797       0.0        NaN  2020-03-26T16:22:39.452         Agree   \n",
       "22798     481.0          0  2021-02-04T14:53:58.929     Not agree   \n",
       "22799       1.0        NaN  2020-03-30T16:22:39.452     Not agree   \n",
       "\n",
       "      consent_deaths conf_death prob_death conf_cases prob_cases  \n",
       "0                NaN        NaN        NaN        NaN        NaN  \n",
       "1          Not agree        NaN        NaN        NaN        NaN  \n",
       "2          Not agree        NaN        NaN        NaN        NaN  \n",
       "3              Agree      165.0          2        NaN        NaN  \n",
       "4          Not agree        NaN        NaN        NaN        NaN  \n",
       "...              ...        ...        ...        ...        ...  \n",
       "22795          Agree        NaN        NaN        NaN        NaN  \n",
       "22796            NaN        NaN        NaN        NaN        NaN  \n",
       "22797          Agree        NaN        NaN        NaN        NaN  \n",
       "22798      Not agree        NaN        NaN        NaN        NaN  \n",
       "22799      Not agree        NaN        NaN        NaN        NaN  \n",
       "\n",
       "[22800 rows x 15 columns]"
      ],
      "text/html": "<div>\n<style scoped>\n    .dataframe tbody tr th:only-of-type {\n        vertical-align: middle;\n    }\n\n    .dataframe tbody tr th {\n        vertical-align: top;\n    }\n\n    .dataframe thead th {\n        text-align: right;\n    }\n</style>\n<table border=\"1\" class=\"dataframe\">\n  <thead>\n    <tr style=\"text-align: right;\">\n      <th></th>\n      <th>submission_date</th>\n      <th>state</th>\n      <th>tot_cases</th>\n      <th>new_case</th>\n      <th>pnew_case</th>\n      <th>tot_death</th>\n      <th>new_death</th>\n      <th>pnew_death</th>\n      <th>created_at</th>\n      <th>consent_cases</th>\n      <th>consent_deaths</th>\n      <th>conf_death</th>\n      <th>prob_death</th>\n      <th>conf_cases</th>\n      <th>prob_cases</th>\n    </tr>\n  </thead>\n  <tbody>\n    <tr>\n      <th>0</th>\n      <td>2020-10-15T00:00:00.000</td>\n      <td>DC</td>\n      <td>16166</td>\n      <td>34.0</td>\n      <td>0</td>\n      <td>638</td>\n      <td>0.0</td>\n      <td>0</td>\n      <td>2020-10-16T13:33:55.808</td>\n      <td>NaN</td>\n      <td>NaN</td>\n      <td>NaN</td>\n      <td>NaN</td>\n      <td>NaN</td>\n      <td>NaN</td>\n    </tr>\n    <tr>\n      <th>1</th>\n      <td>2020-12-08T00:00:00.000</td>\n      <td>NM</td>\n      <td>109947</td>\n      <td>0.0</td>\n      <td>0</td>\n      <td>1756</td>\n      <td>0.0</td>\n      <td>0</td>\n      <td>2020-12-09T14:45:40.234</td>\n      <td>N/A</td>\n      <td>Not agree</td>\n      <td>NaN</td>\n      <td>NaN</td>\n      <td>NaN</td>\n      <td>NaN</td>\n    </tr>\n    <tr>\n      <th>2</th>\n      <td>2021-01-01T00:00:00.000</td>\n      <td>FL</td>\n      <td>1300528</td>\n      <td>0.0</td>\n      <td>6063</td>\n      <td>21673</td>\n      <td>0.0</td>\n      <td>7</td>\n      <td>2021-01-02T14:50:51.219</td>\n      <td>Not agree</td>\n      <td>Not agree</td>\n      <td>NaN</td>\n      <td>NaN</td>\n      <td>NaN</td>\n      <td>NaN</td>\n    </tr>\n    <tr>\n      <th>3</th>\n      <td>2020-08-29T00:00:00.000</td>\n      <td>SD</td>\n      <td>12942</td>\n      <td>425.0</td>\n      <td>0</td>\n      <td>167</td>\n      <td>2.0</td>\n      <td>0</td>\n      <td>2020-08-30T14:49:52.418</td>\n      <td>N/A</td>\n      <td>Agree</td>\n      <td>165.0</td>\n      <td>2</td>\n      <td>NaN</td>\n      <td>NaN</td>\n    </tr>\n    <tr>\n      <th>4</th>\n      <td>2020-04-30T00:00:00.000</td>\n      <td>IA</td>\n      <td>7145</td>\n      <td>302.0</td>\n      <td>0</td>\n      <td>162</td>\n      <td>14.0</td>\n      <td>0</td>\n      <td>2020-05-01T21:00:19.025</td>\n      <td>Not agree</td>\n      <td>Not agree</td>\n      <td>NaN</td>\n      <td>NaN</td>\n      <td>NaN</td>\n      <td>NaN</td>\n    </tr>\n    <tr>\n      <th>...</th>\n      <td>...</td>\n      <td>...</td>\n      <td>...</td>\n      <td>...</td>\n      <td>...</td>\n      <td>...</td>\n      <td>...</td>\n      <td>...</td>\n      <td>...</td>\n      <td>...</td>\n      <td>...</td>\n      <td>...</td>\n      <td>...</td>\n      <td>...</td>\n      <td>...</td>\n    </tr>\n    <tr>\n      <th>22795</th>\n      <td>2020-03-01T00:00:00.000</td>\n      <td>WY</td>\n      <td>0</td>\n      <td>0.0</td>\n      <td>NaN</td>\n      <td>0</td>\n      <td>0.0</td>\n      <td>NaN</td>\n      <td>2020-03-26T16:22:39.452</td>\n      <td>Agree</td>\n      <td>Agree</td>\n      <td>NaN</td>\n      <td>NaN</td>\n      <td>NaN</td>\n      <td>NaN</td>\n    </tr>\n    <tr>\n      <th>22796</th>\n      <td>2020-07-12T00:00:00.000</td>\n      <td>DC</td>\n      <td>10847</td>\n      <td>46.0</td>\n      <td>0</td>\n      <td>568</td>\n      <td>0.0</td>\n      <td>0</td>\n      <td>2020-07-13T15:19:34.972</td>\n      <td>NaN</td>\n      <td>NaN</td>\n      <td>NaN</td>\n      <td>NaN</td>\n      <td>NaN</td>\n      <td>NaN</td>\n    </tr>\n    <tr>\n      <th>22797</th>\n      <td>2020-03-05T00:00:00.000</td>\n      <td>MI</td>\n      <td>0</td>\n      <td>0.0</td>\n      <td>NaN</td>\n      <td>0</td>\n      <td>0.0</td>\n      <td>NaN</td>\n      <td>2020-03-26T16:22:39.452</td>\n      <td>Agree</td>\n      <td>Agree</td>\n      <td>NaN</td>\n      <td>NaN</td>\n      <td>NaN</td>\n      <td>NaN</td>\n    </tr>\n    <tr>\n      <th>22798</th>\n      <td>2021-02-03T00:00:00.000</td>\n      <td>CA</td>\n      <td>3281271</td>\n      <td>10501.0</td>\n      <td>0</td>\n      <td>41811</td>\n      <td>481.0</td>\n      <td>0</td>\n      <td>2021-02-04T14:53:58.929</td>\n      <td>Not agree</td>\n      <td>Not agree</td>\n      <td>NaN</td>\n      <td>NaN</td>\n      <td>NaN</td>\n      <td>NaN</td>\n    </tr>\n    <tr>\n      <th>22799</th>\n      <td>2020-03-31T00:00:00.000</td>\n      <td>IA</td>\n      <td>497</td>\n      <td>73.0</td>\n      <td>NaN</td>\n      <td>7</td>\n      <td>1.0</td>\n      <td>NaN</td>\n      <td>2020-03-30T16:22:39.452</td>\n      <td>Not agree</td>\n      <td>Not agree</td>\n      <td>NaN</td>\n      <td>NaN</td>\n      <td>NaN</td>\n      <td>NaN</td>\n    </tr>\n  </tbody>\n</table>\n<p>22800 rows × 15 columns</p>\n</div>"
     },
     "metadata": {},
     "execution_count": 5
    }
   ],
   "source": [
    "results_df"
   ]
  },
  {
   "cell_type": "code",
   "execution_count": 6,
   "metadata": {},
   "outputs": [],
   "source": [
    "#reformatting date\n",
    "results_df['submission_date']=pd.to_datetime(results_df['submission_date']).dt.date\n",
    "results_df['created_at']=pd.to_datetime(results_df['created_at']).dt.date"
   ]
  },
  {
   "cell_type": "code",
   "execution_count": 7,
   "metadata": {},
   "outputs": [
    {
     "output_type": "execute_result",
     "data": {
      "text/plain": [
       "submission_date     object\n",
       "state               object\n",
       "tot_cases          float64\n",
       "new_case           float64\n",
       "pnew_case          float64\n",
       "tot_death          float64\n",
       "new_death          float64\n",
       "pnew_death         float64\n",
       "created_at          object\n",
       "consent_cases       object\n",
       "consent_deaths      object\n",
       "conf_death         float64\n",
       "prob_death         float64\n",
       "conf_cases         float64\n",
       "prob_cases         float64\n",
       "dtype: object"
      ]
     },
     "metadata": {},
     "execution_count": 7
    }
   ],
   "source": [
    "results_df['tot_cases']=results_df['tot_cases'].astype('float')\n",
    "results_df['conf_cases']=results_df['conf_cases'].astype('float')\n",
    "results_df['prob_cases']=results_df['prob_cases'].astype('float')\n",
    "results_df['new_case']=results_df['new_case'].astype('float')\n",
    "results_df['pnew_case']=results_df['pnew_case'].astype('float')\n",
    "results_df['tot_death']=results_df['tot_death'].astype('float')\n",
    "results_df['conf_death']=results_df['conf_death'].astype('float')\n",
    "results_df['prob_death']=results_df['prob_death'].astype('float')\n",
    "results_df['new_death']=results_df['new_death'].astype('float')\n",
    "results_df['pnew_death']=results_df['pnew_death'].astype('float')\n",
    "results_df.dtypes"
   ]
  },
  {
   "cell_type": "code",
   "execution_count": 8,
   "metadata": {
    "scrolled": true
   },
   "outputs": [
    {
     "output_type": "execute_result",
     "data": {
      "text/plain": [
       "      submission_date state  tot_cases  new_case  pnew_case  tot_death  \\\n",
       "9579       2020-01-22    LA        0.0       0.0        NaN        0.0   \n",
       "19859      2020-01-22    MO        0.0       0.0        NaN        0.0   \n",
       "18660      2020-01-22    DE        0.0       0.0        NaN        0.0   \n",
       "1416       2020-01-22    AS        0.0       0.0        NaN        0.0   \n",
       "8096       2020-01-22    WI        0.0       0.0        NaN        0.0   \n",
       "...               ...   ...        ...       ...        ...        ...   \n",
       "10740      2021-02-04    NM   176211.0     559.0        0.0     3355.0   \n",
       "2237       2021-02-04    MN   465176.0    1410.0      218.0     6319.0   \n",
       "9694       2021-02-04    AZ   771796.0    4417.0      651.0    13752.0   \n",
       "10893      2021-02-04    ND    98095.0      61.0       24.0     1426.0   \n",
       "6246       2021-02-04    NY   827433.0    4475.0        0.0    16594.0   \n",
       "\n",
       "       new_death  pnew_death  created_at consent_cases consent_deaths  \\\n",
       "9579         0.0         NaN  2020-03-26     Not agree          Agree   \n",
       "19859        0.0         NaN  2020-03-26     Not agree      Not agree   \n",
       "18660        0.0         NaN  2020-03-26         Agree          Agree   \n",
       "1416         0.0         NaN  2020-03-26           NaN            NaN   \n",
       "8096         0.0         NaN  2020-03-26         Agree          Agree   \n",
       "...          ...         ...         ...           ...            ...   \n",
       "10740       17.0         0.0  2021-02-05           N/A      Not agree   \n",
       "2237        17.0         0.0  2021-02-05           N/A          Agree   \n",
       "9694       176.0        11.0  2021-02-05         Agree          Agree   \n",
       "10893        4.0         0.0  2021-02-05         Agree      Not agree   \n",
       "6246        81.0         0.0  2021-02-05     Not agree      Not agree   \n",
       "\n",
       "       conf_death  prob_death  conf_cases  prob_cases  \n",
       "9579          NaN         NaN         NaN         NaN  \n",
       "19859         NaN         NaN         NaN         NaN  \n",
       "18660         NaN         NaN         NaN         NaN  \n",
       "1416          NaN         NaN         NaN         NaN  \n",
       "8096          NaN         NaN         NaN         NaN  \n",
       "...           ...         ...         ...         ...  \n",
       "10740         NaN         NaN         NaN         NaN  \n",
       "2237       5997.0       322.0         NaN         NaN  \n",
       "9694      12224.0      1528.0    722252.0     49544.0  \n",
       "10893         NaN         NaN     93583.0      4512.0  \n",
       "6246          NaN         NaN         NaN         NaN  \n",
       "\n",
       "[22800 rows x 15 columns]"
      ],
      "text/html": "<div>\n<style scoped>\n    .dataframe tbody tr th:only-of-type {\n        vertical-align: middle;\n    }\n\n    .dataframe tbody tr th {\n        vertical-align: top;\n    }\n\n    .dataframe thead th {\n        text-align: right;\n    }\n</style>\n<table border=\"1\" class=\"dataframe\">\n  <thead>\n    <tr style=\"text-align: right;\">\n      <th></th>\n      <th>submission_date</th>\n      <th>state</th>\n      <th>tot_cases</th>\n      <th>new_case</th>\n      <th>pnew_case</th>\n      <th>tot_death</th>\n      <th>new_death</th>\n      <th>pnew_death</th>\n      <th>created_at</th>\n      <th>consent_cases</th>\n      <th>consent_deaths</th>\n      <th>conf_death</th>\n      <th>prob_death</th>\n      <th>conf_cases</th>\n      <th>prob_cases</th>\n    </tr>\n  </thead>\n  <tbody>\n    <tr>\n      <th>9579</th>\n      <td>2020-01-22</td>\n      <td>LA</td>\n      <td>0.0</td>\n      <td>0.0</td>\n      <td>NaN</td>\n      <td>0.0</td>\n      <td>0.0</td>\n      <td>NaN</td>\n      <td>2020-03-26</td>\n      <td>Not agree</td>\n      <td>Agree</td>\n      <td>NaN</td>\n      <td>NaN</td>\n      <td>NaN</td>\n      <td>NaN</td>\n    </tr>\n    <tr>\n      <th>19859</th>\n      <td>2020-01-22</td>\n      <td>MO</td>\n      <td>0.0</td>\n      <td>0.0</td>\n      <td>NaN</td>\n      <td>0.0</td>\n      <td>0.0</td>\n      <td>NaN</td>\n      <td>2020-03-26</td>\n      <td>Not agree</td>\n      <td>Not agree</td>\n      <td>NaN</td>\n      <td>NaN</td>\n      <td>NaN</td>\n      <td>NaN</td>\n    </tr>\n    <tr>\n      <th>18660</th>\n      <td>2020-01-22</td>\n      <td>DE</td>\n      <td>0.0</td>\n      <td>0.0</td>\n      <td>NaN</td>\n      <td>0.0</td>\n      <td>0.0</td>\n      <td>NaN</td>\n      <td>2020-03-26</td>\n      <td>Agree</td>\n      <td>Agree</td>\n      <td>NaN</td>\n      <td>NaN</td>\n      <td>NaN</td>\n      <td>NaN</td>\n    </tr>\n    <tr>\n      <th>1416</th>\n      <td>2020-01-22</td>\n      <td>AS</td>\n      <td>0.0</td>\n      <td>0.0</td>\n      <td>NaN</td>\n      <td>0.0</td>\n      <td>0.0</td>\n      <td>NaN</td>\n      <td>2020-03-26</td>\n      <td>NaN</td>\n      <td>NaN</td>\n      <td>NaN</td>\n      <td>NaN</td>\n      <td>NaN</td>\n      <td>NaN</td>\n    </tr>\n    <tr>\n      <th>8096</th>\n      <td>2020-01-22</td>\n      <td>WI</td>\n      <td>0.0</td>\n      <td>0.0</td>\n      <td>NaN</td>\n      <td>0.0</td>\n      <td>0.0</td>\n      <td>NaN</td>\n      <td>2020-03-26</td>\n      <td>Agree</td>\n      <td>Agree</td>\n      <td>NaN</td>\n      <td>NaN</td>\n      <td>NaN</td>\n      <td>NaN</td>\n    </tr>\n    <tr>\n      <th>...</th>\n      <td>...</td>\n      <td>...</td>\n      <td>...</td>\n      <td>...</td>\n      <td>...</td>\n      <td>...</td>\n      <td>...</td>\n      <td>...</td>\n      <td>...</td>\n      <td>...</td>\n      <td>...</td>\n      <td>...</td>\n      <td>...</td>\n      <td>...</td>\n      <td>...</td>\n    </tr>\n    <tr>\n      <th>10740</th>\n      <td>2021-02-04</td>\n      <td>NM</td>\n      <td>176211.0</td>\n      <td>559.0</td>\n      <td>0.0</td>\n      <td>3355.0</td>\n      <td>17.0</td>\n      <td>0.0</td>\n      <td>2021-02-05</td>\n      <td>N/A</td>\n      <td>Not agree</td>\n      <td>NaN</td>\n      <td>NaN</td>\n      <td>NaN</td>\n      <td>NaN</td>\n    </tr>\n    <tr>\n      <th>2237</th>\n      <td>2021-02-04</td>\n      <td>MN</td>\n      <td>465176.0</td>\n      <td>1410.0</td>\n      <td>218.0</td>\n      <td>6319.0</td>\n      <td>17.0</td>\n      <td>0.0</td>\n      <td>2021-02-05</td>\n      <td>N/A</td>\n      <td>Agree</td>\n      <td>5997.0</td>\n      <td>322.0</td>\n      <td>NaN</td>\n      <td>NaN</td>\n    </tr>\n    <tr>\n      <th>9694</th>\n      <td>2021-02-04</td>\n      <td>AZ</td>\n      <td>771796.0</td>\n      <td>4417.0</td>\n      <td>651.0</td>\n      <td>13752.0</td>\n      <td>176.0</td>\n      <td>11.0</td>\n      <td>2021-02-05</td>\n      <td>Agree</td>\n      <td>Agree</td>\n      <td>12224.0</td>\n      <td>1528.0</td>\n      <td>722252.0</td>\n      <td>49544.0</td>\n    </tr>\n    <tr>\n      <th>10893</th>\n      <td>2021-02-04</td>\n      <td>ND</td>\n      <td>98095.0</td>\n      <td>61.0</td>\n      <td>24.0</td>\n      <td>1426.0</td>\n      <td>4.0</td>\n      <td>0.0</td>\n      <td>2021-02-05</td>\n      <td>Agree</td>\n      <td>Not agree</td>\n      <td>NaN</td>\n      <td>NaN</td>\n      <td>93583.0</td>\n      <td>4512.0</td>\n    </tr>\n    <tr>\n      <th>6246</th>\n      <td>2021-02-04</td>\n      <td>NY</td>\n      <td>827433.0</td>\n      <td>4475.0</td>\n      <td>0.0</td>\n      <td>16594.0</td>\n      <td>81.0</td>\n      <td>0.0</td>\n      <td>2021-02-05</td>\n      <td>Not agree</td>\n      <td>Not agree</td>\n      <td>NaN</td>\n      <td>NaN</td>\n      <td>NaN</td>\n      <td>NaN</td>\n    </tr>\n  </tbody>\n</table>\n<p>22800 rows × 15 columns</p>\n</div>"
     },
     "metadata": {},
     "execution_count": 8
    }
   ],
   "source": [
    "results_df=results_df.sort_values(by='submission_date')\n",
    "results_df"
   ]
  },
  {
   "cell_type": "code",
   "execution_count": 9,
   "metadata": {},
   "outputs": [],
   "source": [
    "from sqlalchemy import create_engine"
   ]
  },
  {
   "cell_type": "code",
   "execution_count": 10,
   "metadata": {},
   "outputs": [],
   "source": [
    "from config import location"
   ]
  },
  {
   "cell_type": "code",
   "execution_count": 11,
   "metadata": {},
   "outputs": [],
   "source": [
    "engine=create_engine(location)"
   ]
  },
  {
   "cell_type": "code",
   "execution_count": 12,
   "metadata": {},
   "outputs": [],
   "source": [
    "from sqlalchemy import event"
   ]
  },
  {
   "cell_type": "code",
   "execution_count": 13,
   "metadata": {},
   "outputs": [],
   "source": [
    "@event.listens_for(engine, \"before_cursor_execute\")\n",
    "def receive_before_cursor_excute(\n",
    "    conn, cursor, statement, params, context, excutemany\n",
    "    ):\n",
    "        if excutemany:\n",
    "            cursor.fast_excutemany=True"
   ]
  },
  {
   "cell_type": "code",
   "execution_count": 14,
   "metadata": {},
   "outputs": [
    {
     "output_type": "execute_result",
     "data": {
      "text/plain": [
       "<function __main__.receive_before_cursor_excute(conn, cursor, statement, params, context, excutemany)>"
      ]
     },
     "metadata": {},
     "execution_count": 14
    }
   ],
   "source": [
    "receive_before_cursor_excute"
   ]
  },
  {
   "cell_type": "code",
   "execution_count": 15,
   "metadata": {},
   "outputs": [],
   "source": [
    "#pandas dataframe stored in a postgresql database\n",
    "results_df.to_sql('covid_19_us_cases',engine,index=False,if_exists=\"replace\",chunksize=100,method='multi')"
   ]
  },
  {
   "cell_type": "code",
   "execution_count": 16,
   "metadata": {},
   "outputs": [
    {
     "output_type": "execute_result",
     "data": {
      "text/plain": [
       "                  tot_cases  new_case  pnew_case  tot_death  new_death  \\\n",
       "submission_date                                                          \n",
       "2020-01-22              1.0       1.0        0.0        0.0        0.0   \n",
       "2020-01-23              1.0       0.0        0.0        0.0        0.0   \n",
       "2020-01-24              2.0       1.0        0.0        0.0        0.0   \n",
       "2020-01-25              2.0       0.0        0.0        0.0        0.0   \n",
       "2020-01-26              5.0       3.0        0.0        0.0        0.0   \n",
       "...                     ...       ...        ...        ...        ...   \n",
       "2021-01-31       26034475.0  112772.0    14670.0   439955.0     1920.0   \n",
       "2021-02-01       26160210.0  125735.0    14793.0   441831.0     1876.0   \n",
       "2021-02-02       26277125.0  116915.0    22850.0   445264.0     3433.0   \n",
       "2021-02-03       26398337.0  121212.0    29240.0   449020.0     3756.0   \n",
       "2021-02-04       26523297.0  124960.0    22915.0   454209.0     5189.0   \n",
       "\n",
       "                 pnew_death  conf_death  prob_death  conf_cases  prob_cases  \n",
       "submission_date                                                              \n",
       "2020-01-22              0.0         0.0         0.0         0.0         0.0  \n",
       "2020-01-23              0.0         0.0         0.0         0.0         0.0  \n",
       "2020-01-24              0.0         0.0         0.0         0.0         0.0  \n",
       "2020-01-25              0.0         0.0         0.0         0.0         0.0  \n",
       "2020-01-26              0.0         0.0         0.0         0.0         0.0  \n",
       "...                     ...         ...         ...         ...         ...  \n",
       "2021-01-31            388.0    228276.0     27572.0  12054685.0   1575882.0  \n",
       "2021-02-01            271.0    229186.0     27756.0  12103533.0   1584363.0  \n",
       "2021-02-02            443.0    230661.0     28088.0  12144016.0   1597668.0  \n",
       "2021-02-03            395.0    232222.0     28510.0  12189443.0   1618319.0  \n",
       "2021-02-04            534.0    235269.0     28842.0  12240969.0   1633645.0  \n",
       "\n",
       "[380 rows x 10 columns]"
      ],
      "text/html": "<div>\n<style scoped>\n    .dataframe tbody tr th:only-of-type {\n        vertical-align: middle;\n    }\n\n    .dataframe tbody tr th {\n        vertical-align: top;\n    }\n\n    .dataframe thead th {\n        text-align: right;\n    }\n</style>\n<table border=\"1\" class=\"dataframe\">\n  <thead>\n    <tr style=\"text-align: right;\">\n      <th></th>\n      <th>tot_cases</th>\n      <th>new_case</th>\n      <th>pnew_case</th>\n      <th>tot_death</th>\n      <th>new_death</th>\n      <th>pnew_death</th>\n      <th>conf_death</th>\n      <th>prob_death</th>\n      <th>conf_cases</th>\n      <th>prob_cases</th>\n    </tr>\n    <tr>\n      <th>submission_date</th>\n      <th></th>\n      <th></th>\n      <th></th>\n      <th></th>\n      <th></th>\n      <th></th>\n      <th></th>\n      <th></th>\n      <th></th>\n      <th></th>\n    </tr>\n  </thead>\n  <tbody>\n    <tr>\n      <th>2020-01-22</th>\n      <td>1.0</td>\n      <td>1.0</td>\n      <td>0.0</td>\n      <td>0.0</td>\n      <td>0.0</td>\n      <td>0.0</td>\n      <td>0.0</td>\n      <td>0.0</td>\n      <td>0.0</td>\n      <td>0.0</td>\n    </tr>\n    <tr>\n      <th>2020-01-23</th>\n      <td>1.0</td>\n      <td>0.0</td>\n      <td>0.0</td>\n      <td>0.0</td>\n      <td>0.0</td>\n      <td>0.0</td>\n      <td>0.0</td>\n      <td>0.0</td>\n      <td>0.0</td>\n      <td>0.0</td>\n    </tr>\n    <tr>\n      <th>2020-01-24</th>\n      <td>2.0</td>\n      <td>1.0</td>\n      <td>0.0</td>\n      <td>0.0</td>\n      <td>0.0</td>\n      <td>0.0</td>\n      <td>0.0</td>\n      <td>0.0</td>\n      <td>0.0</td>\n      <td>0.0</td>\n    </tr>\n    <tr>\n      <th>2020-01-25</th>\n      <td>2.0</td>\n      <td>0.0</td>\n      <td>0.0</td>\n      <td>0.0</td>\n      <td>0.0</td>\n      <td>0.0</td>\n      <td>0.0</td>\n      <td>0.0</td>\n      <td>0.0</td>\n      <td>0.0</td>\n    </tr>\n    <tr>\n      <th>2020-01-26</th>\n      <td>5.0</td>\n      <td>3.0</td>\n      <td>0.0</td>\n      <td>0.0</td>\n      <td>0.0</td>\n      <td>0.0</td>\n      <td>0.0</td>\n      <td>0.0</td>\n      <td>0.0</td>\n      <td>0.0</td>\n    </tr>\n    <tr>\n      <th>...</th>\n      <td>...</td>\n      <td>...</td>\n      <td>...</td>\n      <td>...</td>\n      <td>...</td>\n      <td>...</td>\n      <td>...</td>\n      <td>...</td>\n      <td>...</td>\n      <td>...</td>\n    </tr>\n    <tr>\n      <th>2021-01-31</th>\n      <td>26034475.0</td>\n      <td>112772.0</td>\n      <td>14670.0</td>\n      <td>439955.0</td>\n      <td>1920.0</td>\n      <td>388.0</td>\n      <td>228276.0</td>\n      <td>27572.0</td>\n      <td>12054685.0</td>\n      <td>1575882.0</td>\n    </tr>\n    <tr>\n      <th>2021-02-01</th>\n      <td>26160210.0</td>\n      <td>125735.0</td>\n      <td>14793.0</td>\n      <td>441831.0</td>\n      <td>1876.0</td>\n      <td>271.0</td>\n      <td>229186.0</td>\n      <td>27756.0</td>\n      <td>12103533.0</td>\n      <td>1584363.0</td>\n    </tr>\n    <tr>\n      <th>2021-02-02</th>\n      <td>26277125.0</td>\n      <td>116915.0</td>\n      <td>22850.0</td>\n      <td>445264.0</td>\n      <td>3433.0</td>\n      <td>443.0</td>\n      <td>230661.0</td>\n      <td>28088.0</td>\n      <td>12144016.0</td>\n      <td>1597668.0</td>\n    </tr>\n    <tr>\n      <th>2021-02-03</th>\n      <td>26398337.0</td>\n      <td>121212.0</td>\n      <td>29240.0</td>\n      <td>449020.0</td>\n      <td>3756.0</td>\n      <td>395.0</td>\n      <td>232222.0</td>\n      <td>28510.0</td>\n      <td>12189443.0</td>\n      <td>1618319.0</td>\n    </tr>\n    <tr>\n      <th>2021-02-04</th>\n      <td>26523297.0</td>\n      <td>124960.0</td>\n      <td>22915.0</td>\n      <td>454209.0</td>\n      <td>5189.0</td>\n      <td>534.0</td>\n      <td>235269.0</td>\n      <td>28842.0</td>\n      <td>12240969.0</td>\n      <td>1633645.0</td>\n    </tr>\n  </tbody>\n</table>\n<p>380 rows × 10 columns</p>\n</div>"
     },
     "metadata": {},
     "execution_count": 16
    }
   ],
   "source": [
    "us_cases_by_date=results_df.groupby([\"submission_date\"]).sum()\n",
    "us_cases_by_date"
   ]
  },
  {
   "cell_type": "code",
   "execution_count": 17,
   "metadata": {},
   "outputs": [],
   "source": [
    "#pandas dataframe stored in a postgresql database\n",
    "us_cases_by_date.to_sql('covid_19_us_cases_by_date',engine,index=True,if_exists=\"replace\",chunksize=100,method='multi')"
   ]
  }
 ],
 "metadata": {
  "kernelspec": {
   "display_name": "Python 3",
   "language": "python",
   "name": "python3"
  },
  "language_info": {
   "codemirror_mode": {
    "name": "ipython",
    "version": 3
   },
   "file_extension": ".py",
   "mimetype": "text/x-python",
   "name": "python",
   "nbconvert_exporter": "python",
   "pygments_lexer": "ipython3",
   "version": "3.6.9-final"
  }
 },
 "nbformat": 4,
 "nbformat_minor": 2
}